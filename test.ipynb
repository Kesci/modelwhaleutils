{
 "cells": [
  {
   "cell_type": "code",
   "execution_count": 1,
   "metadata": {},
   "outputs": [],
   "source": [
    "import mwutils"
   ]
  },
  {
   "cell_type": "code",
   "execution_count": 2,
   "metadata": {},
   "outputs": [],
   "source": [
    "from mwutils.run import Run"
   ]
  },
  {
   "cell_type": "code",
   "execution_count": 3,
   "metadata": {},
   "outputs": [],
   "source": [
    "r = Run(name=\"test_custom_log\",\n",
    "        user_id = \"599acae0c8d2787da4d2233f\",\n",
    "        lab_id = \"60755420e42a1b00189e77ad\",\n",
    "        org_id = \"5abb0216f5628022ef83b213\",\n",
    "        flush_interval_seconds=5,\n",
    "        local_path=\"/home/kesci/work\",\n",
    "        sys_stat_sample_interval=2,\n",
    "        sys_stat_sample_size=2,\n",
    "        buffer_all_logs=True,\n",
    "        remote_path=\"https://test-vnrklpqeut.heywhale.com/api/runs\"\n",
    ")\n",
    "r.init_ml()\n",
    "r.start_ml()"
   ]
  },
  {
   "cell_type": "code",
   "execution_count": 5,
   "metadata": {},
   "outputs": [],
   "source": [
    "r.log_meta({'test_key': 1})"
   ]
  },
  {
   "cell_type": "code",
   "execution_count": null,
   "metadata": {},
   "outputs": [],
   "source": []
  }
 ],
 "metadata": {
  "kernelspec": {
   "display_name": "Python 3",
   "language": "python",
   "name": "python3"
  },
  "language_info": {
   "codemirror_mode": {
    "name": "ipython",
    "version": 3
   },
   "file_extension": ".py",
   "mimetype": "text/x-python",
   "name": "python",
   "nbconvert_exporter": "python",
   "pygments_lexer": "ipython3",
   "version": "3.8.6"
  }
 },
 "nbformat": 4,
 "nbformat_minor": 4
}
